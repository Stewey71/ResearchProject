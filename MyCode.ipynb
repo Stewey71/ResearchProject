{
 "cells": [
  {
   "cell_type": "code",
   "execution_count": 1,
   "metadata": {},
   "outputs": [],
   "source": [
    "import numpy as np\n",
    "import pandas as pd\n",
    "import matplotlib\n",
    "import matplotlib.pyplot as plt\n",
    "import sklearn as sk\n",
    "\n",
    "%matplotlib inline\n",
    "plt.style.use(\"ggplot\")"
   ]
  },
  {
   "cell_type": "code",
   "execution_count": 2,
   "metadata": {},
   "outputs": [],
   "source": [
    "from sklearn.datasets import make_blobs\n",
    "from sklearn.model_selection import train_test_split\n",
    "from sklearn.cluster import KMeans\n",
    "from sklearn.metrics import adjusted_rand_score, adjusted_mutual_info_score, homogeneity_completeness_v_measure, silhouette_score"
   ]
  },
  {
   "cell_type": "code",
   "execution_count": 4,
   "metadata": {},
   "outputs": [
    {
     "data": {
      "image/png": "[encoded data removed]",
      "text/plain": [
       "<Figure size 432x288 with 1 Axes>"
      ]
     },
     "metadata": {
      "needs_background": "light"
     },
     "output_type": "display_data"
    }
   ],
   "source": [
    "X= np.matrix([[0.0356,0.0371,-0.045,2.2347,0.0514,0.1215,-0.0446,0.0768,467,16.5166,16.0166,0.8036,2.5234,0.5698,0.8148,0.8808,36.5625,0.2097,0.0424,0.2108], \n",
    "              [-0.0021,0.0283,-0.0142,3.2091,0.0284,0.0857,-0.09,0.2104,308,20.1832,15.1861,0.6631,2.3379,0.6559,0.1365,0.948,39.375,0.2622,0.0234,1.5234],\n",
    "              [-0.0002,0.0234,0.0465,3.1466,0.0234,0.09,-0.0498,0.2412,283 ,0,14.4166,0.414,2.2312,0.6594,0.1673,0.9544,38.5547,0.2914,0.0193,1.6623], \n",
    "              [-0.0061,0.0276,0.0994,3.5567,0.0282,0.0927,-0.0822,0.1613,158,20.6454,14.9445,0.5036,2.2543,0.6437,0.1485,0.9453,39.0234,0.2729,0.0232,1.6489], \n",
    "              [0.0127,0.0243,0.0696,3.2796,0.0274,0.0883,-0.0516,0.1674,395,20.3058,14.9819,0.4316,2.2143,0.6247,0.3751,0.9385,37.6172,0.2718,0.0225,0.9887], \n",
    "              [-0.0017,0.0227,0.2086,3.035,0.0228,0.0682,-0.0402,0.1413,136,0,14.8222,0.4941,2.2527,0.6718,0.1936,0.9531,39.2578,0.2782,0.0188,1.5316],\n",
    "              [-0.0187,0.0279,0.0031,2.439,0.0335,0.0586,-0.0752,0.106,116,19.3422,15.3414,0.5152,2.2423,0.623,0.7171,0.924,37.6172,0.256,0.0276,0.6548], \n",
    "              [0.0089,0.0248,-0.0653,2.814,0.0264,0.0586,-0.0621,0.1813,435,19.6101,15.4028,0.5387,2.2646,0.6486,0.2494,0.9392,37.3828,0.2568,0.0217,1.0422], \n",
    "              [-0.0137,0.0255,0.1659,3.0022,0.029,0.0638,-0.0761,0.1951,169,20.3733,15.0545,0.4264,2.2102,0.649,0.4336,0.9402,37.8516,0.2714,0.0239,0.9151],\n",
    "              [-0.021742057,0.605101457,-3.804788763,27.77397598,0.605027314,2.176664535,-4.558904104,0.13671275,372,16.3924955,16.06751154,1.085650571,2.966126641,0.590528588,0.052557509,0.918928143,37.8515625,0.205469734,0.498229983,0.609549678],\n",
    "              [0.010282786,0.709098001,-5.14599615,39.00598309,0.708627779,1.586293185,-5.885657251,0.116743472,365,13.46852433,16.08441729,1.424059902,3.817637825,0.528617298,0.041273369,0.885499616,33.046875,0.164399564,0.583543252,0.197254999],\n",
    "              [0.075831463,0.953444981,-5.235189781,37.3130186,0.955725557,1.823243867,-7.425703972,0.076804916,405,11.65614579,15.78744808,1.750523796,4.817727732,0.41835106,0.042632375,0.85188404,27.1875,0.138540556,0.787024183,0.348452851],\n",
    "              [-0.496727103,3.57912393,-7.832984259,68.0737643,3.610704682,4.109896859,-35.78608631,0.086021505,330,11.46572593,15.86141587,1.911627407,5.262416326,0.335498787,0.017436804,0.844501011,24.609375,0.132386693,2.973355565,0.223793478],\n",
    "              [0.006958449,0.211290155,-2.989888139,22.26571516,0.21124245,0.745505916,-1.438131441,0.162826421,315,20.56501264,14.86759971,0.43086903,2.229834542,0.658368896,0.16751149,0.947744589,36.796875,0.27753045,0.173954663,1.908627603],\n",
    "              [0.028771777,0.297260252,-5.060166334,63.43412581,0.298422079,1.329754909,-3.449452998,0.181259601,405,0,14.57946692,0.379670867,2.219200313,0.688883232,0.14801332,0.957764738,37.96875,0.286871676,0.245745644,1.807272467],\n",
    "              [-0.021484707,0.273893035,-4.586348313,45.85149529,0.274524595,1.536528534,-2.508179719,0.168970814,324,17.85732683,15.78266388,0.860905949,2.60793097,0.654815182,0.139301133,0.939236149,37.6171875,0.230688555,0.226066462,1.627151277],\n",
    "              [0.001347093,0.278373102,-6.081533261,67.66428431,0.278162477,1.335198036,-3.098655122,0.150537634,358,18.84958741,15.6345559,0.761753848,2.461535484,0.674565089,0.146763972,0.945440047,38.4375,0.243239103,0.229062198,2.361882587],\n",
    "              [-0.003641341,0.180041748,0.451301083,18.45466332,0.179940262,1.347542642,-1.028906527,0.202764977,323,0,14.25574514,0.409261691,2.215228518,0.683487531,0.070534693,0.959652732,39.4921875,0.294128971,0.148177828,1.570920218],\n",
    "              [5.913684247,27.29229711,4.971107529,28.62773203,27.905142,208.8767334,-32.34501651,0.181259601,324,10.31664556,15.4612203,2.071695873,5.958547015,0.290554041,0.132532201,0.816625875,16.9921875,0.118003287,22.97942274,0.019632532],\n",
    "              [-0.001027798,0.070924936,0.139325449,3.142944958,0.070877893,0.246471859,-0.236710985,0.250384025,392,0,14.35892183,0.379202831,2.22549149,0.682061412,0.133890299,0.957114869,38.4375,0.293357269,0.058366773,1.714832524],\n",
    "              [0.006416201,0.077615549,0.276086402,3.174688698,0.077820867,0.242182233,-0.199805231,0.213517665,275,21.0331508,14.73126592,0.453157593,2.250499027,0.654895547,0.179814686,0.949417114,37.8515625,0.281550898,0.064084197,1.818336804],\n",
    "              [-0.00502937,0.108411765,0.224441214,3.868496467,0.108445154,0.388890587,-0.336073802,0.192012289,331,20.86901139,14.9465631,0.550319543,2.278149772,0.640476467,0.151571102,0.947032872,39.2578125,0.272969593,0.08930279,1.589761465],\n",
    "              [-0.014966549,0.101658972,0.010301167,3.688499772,0.102677502,0.30826426,-0.362695211,0.173579109,306,18.44686782,15.68812607,0.774981125,2.505375651,0.61719489,0.208615242,0.930331901,37.96875,0.239540756,0.084553224,0.910321313],\n",
    "              [-0.002965746,0.09032148,0.028262615,3.234249989,0.090300797,0.264643684,-0.283162141,0.19969278,356,19.22588578,15.41425557,0.639226473,2.360055688,0.640548436,0.270741797,0.940207372,37.5,0.252982001,0.074361213,1.484450957],\n",
    "              [-0.447104856,3.793427568,-9.345581504,94.84901805,3.81679065,0.322590421,-45.00144584,0.205837174,362,14.31549049,16.2312634,1.395086163,3.656345657,0.5291746,0.008745315,0.901436002,36.2109375,0.172692235,3.14306395,1.27970501],\n",
    "              [-0.002198772,0.078805948,0.090451914,3.273549348,0.07877609,0.270847576,-0.220393983,0.247311828,349,0,14.58981127,0.421825876,2.231550073,0.665100708,0.363178779,0.951112877,38.3203125,0.285332658,0.064870806,1.777877755],\n",
    "              [0.000684494,0.109793145,0.338349942,5.672637672,0.109710921,0.499059138,-0.36482559,0.205837174,385,19.55519092,15.30228795,0.632728019,2.355930147,0.646083781,0.273747982,0.942314531,37.96875,0.257935692,0.090345129,1.240064162],\n",
    "              [-0.004085018,0.077197217,0.068388615,3.486857902,0.077245993,0.253362932,-0.239538043,0.219662058,413,20.4369857,15.02918074,0.556824727,2.287494871,0.660386906,0.240614394,0.947449724,38.4375,0.269819597,0.063610797,1.519262414],\n",
    "              [-0.005229845,0.073942523,-0.152061532,2.918809521,0.074070571,0.184743597,-0.242380468,0.230414747,418,0,14.45973899,0.384805186,2.229821816,0.663756832,0.166314805,0.952881847,38.3203125,0.28943795,0.060995889,1.614378253]])\n",
    "y =  [1,1,1,1,1,1,1,1,1,2,2,2,2,2,2,2,2,2,2,3,3,3,3,3,3,3,3,3,3]\n",
    "colors =['blue','blue','blue','blue','blue','blue','blue','blue','blue','red','red','red','red','red','red','red','red','red','red','green','green','green','green','green','green','green','green','green','g']\n",
    "plt.scatter([X[:,0]],[X[:,1]],color =['blue','blue','blue','blue','blue','blue','blue','blue','blue','red','red','red','red','red','red','red','red','red','red','green','green','green','green','green','green','green','green','green','g']\n",
    ")\n",
    "plt.show()"
   ]
  },
  {
   "cell_type": "code",
   "execution_count": 5,
   "metadata": {},
   "outputs": [
    {
     "data": {
      "text/plain": [
       "<matplotlib.collections.PathCollection at 0x17d84ae4b00>"
      ]
     },
     "execution_count": 5,
     "metadata": {},
     "output_type": "execute_result"
    },
    {
     "data": {
      "image/png": "[encoded data removed]",
      "text/plain": [
       "<Figure size 432x288 with 1 Axes>"
      ]
     },
     "metadata": {
      "needs_background": "light"
     },
     "output_type": "display_data"
    }
   ],
   "source": [
    "matplotlib.pyplot.scatter([1,2,3],[4,5,6],color=['red','green','blue'])"
   ]
  },
  {
   "cell_type": "code",
   "execution_count": 6,
   "metadata": {},
   "outputs": [
    {
     "data": {
      "text/plain": [
       "29"
      ]
     },
     "execution_count": 6,
     "metadata": {},
     "output_type": "execute_result"
    }
   ],
   "source": [
    "len(X)"
   ]
  },
  {
   "cell_type": "code",
   "execution_count": 7,
   "metadata": {},
   "outputs": [
    {
     "data": {
      "text/plain": [
       "([1,\n",
       "  1,\n",
       "  1,\n",
       "  1,\n",
       "  1,\n",
       "  1,\n",
       "  1,\n",
       "  1,\n",
       "  1,\n",
       "  2,\n",
       "  2,\n",
       "  2,\n",
       "  2,\n",
       "  2,\n",
       "  2,\n",
       "  2,\n",
       "  2,\n",
       "  2,\n",
       "  2,\n",
       "  3,\n",
       "  3,\n",
       "  3,\n",
       "  3,\n",
       "  3,\n",
       "  3,\n",
       "  3,\n",
       "  3,\n",
       "  3,\n",
       "  3],\n",
       " 29)"
      ]
     },
     "execution_count": 7,
     "metadata": {},
     "output_type": "execute_result"
    }
   ],
   "source": [
    "y, len(y)"
   ]
  },
  {
   "cell_type": "code",
   "execution_count": 8,
   "metadata": {},
   "outputs": [
    {
     "data": {
      "text/plain": [
       "matrix([[ 3.56000000e-02,  3.71000000e-02, -4.50000000e-02,\n",
       "          2.23470000e+00,  5.14000000e-02,  1.21500000e-01,\n",
       "         -4.46000000e-02,  7.68000000e-02,  4.67000000e+02,\n",
       "          1.65166000e+01,  1.60166000e+01,  8.03600000e-01,\n",
       "          2.52340000e+00,  5.69800000e-01,  8.14800000e-01,\n",
       "          8.80800000e-01,  3.65625000e+01,  2.09700000e-01,\n",
       "          4.24000000e-02,  2.10800000e-01],\n",
       "        [-2.10000000e-03,  2.83000000e-02, -1.42000000e-02,\n",
       "          3.20910000e+00,  2.84000000e-02,  8.57000000e-02,\n",
       "         -9.00000000e-02,  2.10400000e-01,  3.08000000e+02,\n",
       "          2.01832000e+01,  1.51861000e+01,  6.63100000e-01,\n",
       "          2.33790000e+00,  6.55900000e-01,  1.36500000e-01,\n",
       "          9.48000000e-01,  3.93750000e+01,  2.62200000e-01,\n",
       "          2.34000000e-02,  1.52340000e+00],\n",
       "        [-2.00000000e-04,  2.34000000e-02,  4.65000000e-02,\n",
       "          3.14660000e+00,  2.34000000e-02,  9.00000000e-02,\n",
       "         -4.98000000e-02,  2.41200000e-01,  2.83000000e+02,\n",
       "          0.00000000e+00,  1.44166000e+01,  4.14000000e-01,\n",
       "          2.23120000e+00,  6.59400000e-01,  1.67300000e-01,\n",
       "          9.54400000e-01,  3.85547000e+01,  2.91400000e-01,\n",
       "          1.93000000e-02,  1.66230000e+00],\n",
       "        [-6.10000000e-03,  2.76000000e-02,  9.94000000e-02,\n",
       "          3.55670000e+00,  2.82000000e-02,  9.27000000e-02,\n",
       "         -8.22000000e-02,  1.61300000e-01,  1.58000000e+02,\n",
       "          2.06454000e+01,  1.49445000e+01,  5.03600000e-01,\n",
       "          2.25430000e+00,  6.43700000e-01,  1.48500000e-01,\n",
       "          9.45300000e-01,  3.90234000e+01,  2.72900000e-01,\n",
       "          2.32000000e-02,  1.64890000e+00],\n",
       "        [ 1.27000000e-02,  2.43000000e-02,  6.96000000e-02,\n",
       "          3.27960000e+00,  2.74000000e-02,  8.83000000e-02,\n",
       "         -5.16000000e-02,  1.67400000e-01,  3.95000000e+02,\n",
       "          2.03058000e+01,  1.49819000e+01,  4.31600000e-01,\n",
       "          2.21430000e+00,  6.24700000e-01,  3.75100000e-01,\n",
       "          9.38500000e-01,  3.76172000e+01,  2.71800000e-01,\n",
       "          2.25000000e-02,  9.88700000e-01],\n",
       "        [-1.70000000e-03,  2.27000000e-02,  2.08600000e-01,\n",
       "          3.03500000e+00,  2.28000000e-02,  6.82000000e-02,\n",
       "         -4.02000000e-02,  1.41300000e-01,  1.36000000e+02,\n",
       "          0.00000000e+00,  1.48222000e+01,  4.94100000e-01,\n",
       "          2.25270000e+00,  6.71800000e-01,  1.93600000e-01,\n",
       "          9.53100000e-01,  3.92578000e+01,  2.78200000e-01,\n",
       "          1.88000000e-02,  1.53160000e+00],\n",
       "        [-1.87000000e-02,  2.79000000e-02,  3.10000000e-03,\n",
       "          2.43900000e+00,  3.35000000e-02,  5.86000000e-02,\n",
       "         -7.52000000e-02,  1.06000000e-01,  1.16000000e+02,\n",
       "          1.93422000e+01,  1.53414000e+01,  5.15200000e-01,\n",
       "          2.24230000e+00,  6.23000000e-01,  7.17100000e-01,\n",
       "          9.24000000e-01,  3.76172000e+01,  2.56000000e-01,\n",
       "          2.76000000e-02,  6.54800000e-01],\n",
       "        [ 8.90000000e-03,  2.48000000e-02, -6.53000000e-02,\n",
       "          2.81400000e+00,  2.64000000e-02,  5.86000000e-02,\n",
       "         -6.21000000e-02,  1.81300000e-01,  4.35000000e+02,\n",
       "          1.96101000e+01,  1.54028000e+01,  5.38700000e-01,\n",
       "          2.26460000e+00,  6.48600000e-01,  2.49400000e-01,\n",
       "          9.39200000e-01,  3.73828000e+01,  2.56800000e-01,\n",
       "          2.17000000e-02,  1.04220000e+00],\n",
       "        [-1.37000000e-02,  2.55000000e-02,  1.65900000e-01,\n",
       "          3.00220000e+00,  2.90000000e-02,  6.38000000e-02,\n",
       "         -7.61000000e-02,  1.95100000e-01,  1.69000000e+02,\n",
       "          2.03733000e+01,  1.50545000e+01,  4.26400000e-01,\n",
       "          2.21020000e+00,  6.49000000e-01,  4.33600000e-01,\n",
       "          9.40200000e-01,  3.78516000e+01,  2.71400000e-01,\n",
       "          2.39000000e-02,  9.15100000e-01],\n",
       "        [-2.17420570e-02,  6.05101457e-01, -3.80478876e+00,\n",
       "          2.77739760e+01,  6.05027314e-01,  2.17666454e+00,\n",
       "         -4.55890410e+00,  1.36712750e-01,  3.72000000e+02,\n",
       "          1.63924955e+01,  1.60675115e+01,  1.08565057e+00,\n",
       "          2.96612664e+00,  5.90528588e-01,  5.25575090e-02,\n",
       "          9.18928143e-01,  3.78515625e+01,  2.05469734e-01,\n",
       "          4.98229983e-01,  6.09549678e-01],\n",
       "        [ 1.02827860e-02,  7.09098001e-01, -5.14599615e+00,\n",
       "          3.90059831e+01,  7.08627779e-01,  1.58629318e+00,\n",
       "         -5.88565725e+00,  1.16743472e-01,  3.65000000e+02,\n",
       "          1.34685243e+01,  1.60844173e+01,  1.42405990e+00,\n",
       "          3.81763782e+00,  5.28617298e-01,  4.12733690e-02,\n",
       "          8.85499616e-01,  3.30468750e+01,  1.64399564e-01,\n",
       "          5.83543252e-01,  1.97254999e-01],\n",
       "        [ 7.58314630e-02,  9.53444981e-01, -5.23518978e+00,\n",
       "          3.73130186e+01,  9.55725557e-01,  1.82324387e+00,\n",
       "         -7.42570397e+00,  7.68049160e-02,  4.05000000e+02,\n",
       "          1.16561458e+01,  1.57874481e+01,  1.75052380e+00,\n",
       "          4.81772773e+00,  4.18351060e-01,  4.26323750e-02,\n",
       "          8.51884040e-01,  2.71875000e+01,  1.38540556e-01,\n",
       "          7.87024183e-01,  3.48452851e-01],\n",
       "        [-4.96727103e-01,  3.57912393e+00, -7.83298426e+00,\n",
       "          6.80737643e+01,  3.61070468e+00,  4.10989686e+00,\n",
       "         -3.57860863e+01,  8.60215050e-02,  3.30000000e+02,\n",
       "          1.14657259e+01,  1.58614159e+01,  1.91162741e+00,\n",
       "          5.26241633e+00,  3.35498787e-01,  1.74368040e-02,\n",
       "          8.44501011e-01,  2.46093750e+01,  1.32386693e-01,\n",
       "          2.97335556e+00,  2.23793478e-01],\n",
       "        [ 6.95844900e-03,  2.11290155e-01, -2.98988814e+00,\n",
       "          2.22657152e+01,  2.11242450e-01,  7.45505916e-01,\n",
       "         -1.43813144e+00,  1.62826421e-01,  3.15000000e+02,\n",
       "          2.05650126e+01,  1.48675997e+01,  4.30869030e-01,\n",
       "          2.22983454e+00,  6.58368896e-01,  1.67511490e-01,\n",
       "          9.47744589e-01,  3.67968750e+01,  2.77530450e-01,\n",
       "          1.73954663e-01,  1.90862760e+00],\n",
       "        [ 2.87717770e-02,  2.97260252e-01, -5.06016633e+00,\n",
       "          6.34341258e+01,  2.98422079e-01,  1.32975491e+00,\n",
       "         -3.44945300e+00,  1.81259601e-01,  4.05000000e+02,\n",
       "          0.00000000e+00,  1.45794669e+01,  3.79670867e-01,\n",
       "          2.21920031e+00,  6.88883232e-01,  1.48013320e-01,\n",
       "          9.57764738e-01,  3.79687500e+01,  2.86871676e-01,\n",
       "          2.45745644e-01,  1.80727247e+00],\n",
       "        [-2.14847070e-02,  2.73893035e-01, -4.58634831e+00,\n",
       "          4.58514953e+01,  2.74524595e-01,  1.53652853e+00,\n",
       "         -2.50817972e+00,  1.68970814e-01,  3.24000000e+02,\n",
       "          1.78573268e+01,  1.57826639e+01,  8.60905949e-01,\n",
       "          2.60793097e+00,  6.54815182e-01,  1.39301133e-01,\n",
       "          9.39236149e-01,  3.76171875e+01,  2.30688555e-01,\n",
       "          2.26066462e-01,  1.62715128e+00],\n",
       "        [ 1.34709300e-03,  2.78373102e-01, -6.08153326e+00,\n",
       "          6.76642843e+01,  2.78162477e-01,  1.33519804e+00,\n",
       "         -3.09865512e+00,  1.50537634e-01,  3.58000000e+02,\n",
       "          1.88495874e+01,  1.56345559e+01,  7.61753848e-01,\n",
       "          2.46153548e+00,  6.74565089e-01,  1.46763972e-01,\n",
       "          9.45440047e-01,  3.84375000e+01,  2.43239103e-01,\n",
       "          2.29062198e-01,  2.36188259e+00],\n",
       "        [-3.64134100e-03,  1.80041748e-01,  4.51301083e-01,\n",
       "          1.84546633e+01,  1.79940262e-01,  1.34754264e+00,\n",
       "         -1.02890653e+00,  2.02764977e-01,  3.23000000e+02,\n",
       "          0.00000000e+00,  1.42557451e+01,  4.09261691e-01,\n",
       "          2.21522852e+00,  6.83487531e-01,  7.05346930e-02,\n",
       "          9.59652732e-01,  3.94921875e+01,  2.94128971e-01,\n",
       "          1.48177828e-01,  1.57092022e+00],\n",
       "        [ 5.91368425e+00,  2.72922971e+01,  4.97110753e+00,\n",
       "          2.86277320e+01,  2.79051420e+01,  2.08876733e+02,\n",
       "         -3.23450165e+01,  1.81259601e-01,  3.24000000e+02,\n",
       "          1.03166456e+01,  1.54612203e+01,  2.07169587e+00,\n",
       "          5.95854701e+00,  2.90554041e-01,  1.32532201e-01,\n",
       "          8.16625875e-01,  1.69921875e+01,  1.18003287e-01,\n",
       "          2.29794227e+01,  1.96325320e-02],\n",
       "        [-1.02779800e-03,  7.09249360e-02,  1.39325449e-01,\n",
       "          3.14294496e+00,  7.08778930e-02,  2.46471859e-01,\n",
       "         -2.36710985e-01,  2.50384025e-01,  3.92000000e+02,\n",
       "          0.00000000e+00,  1.43589218e+01,  3.79202831e-01,\n",
       "          2.22549149e+00,  6.82061412e-01,  1.33890299e-01,\n",
       "          9.57114869e-01,  3.84375000e+01,  2.93357269e-01,\n",
       "          5.83667730e-02,  1.71483252e+00],\n",
       "        [ 6.41620100e-03,  7.76155490e-02,  2.76086402e-01,\n",
       "          3.17468870e+00,  7.78208670e-02,  2.42182233e-01,\n",
       "         -1.99805231e-01,  2.13517665e-01,  2.75000000e+02,\n",
       "          2.10331508e+01,  1.47312659e+01,  4.53157593e-01,\n",
       "          2.25049903e+00,  6.54895547e-01,  1.79814686e-01,\n",
       "          9.49417114e-01,  3.78515625e+01,  2.81550898e-01,\n",
       "          6.40841970e-02,  1.81833680e+00],\n",
       "        [-5.02937000e-03,  1.08411765e-01,  2.24441214e-01,\n",
       "          3.86849647e+00,  1.08445154e-01,  3.88890587e-01,\n",
       "         -3.36073802e-01,  1.92012289e-01,  3.31000000e+02,\n",
       "          2.08690114e+01,  1.49465631e+01,  5.50319543e-01,\n",
       "          2.27814977e+00,  6.40476467e-01,  1.51571102e-01,\n",
       "          9.47032872e-01,  3.92578125e+01,  2.72969593e-01,\n",
       "          8.93027900e-02,  1.58976147e+00],\n",
       "        [-1.49665490e-02,  1.01658972e-01,  1.03011670e-02,\n",
       "          3.68849977e+00,  1.02677502e-01,  3.08264260e-01,\n",
       "         -3.62695211e-01,  1.73579109e-01,  3.06000000e+02,\n",
       "          1.84468678e+01,  1.56881261e+01,  7.74981125e-01,\n",
       "          2.50537565e+00,  6.17194890e-01,  2.08615242e-01,\n",
       "          9.30331901e-01,  3.79687500e+01,  2.39540756e-01,\n",
       "          8.45532240e-02,  9.10321313e-01],\n",
       "        [-2.96574600e-03,  9.03214800e-02,  2.82626150e-02,\n",
       "          3.23424999e+00,  9.03007970e-02,  2.64643684e-01,\n",
       "         -2.83162141e-01,  1.99692780e-01,  3.56000000e+02,\n",
       "          1.92258858e+01,  1.54142556e+01,  6.39226473e-01,\n",
       "          2.36005569e+00,  6.40548436e-01,  2.70741797e-01,\n",
       "          9.40207372e-01,  3.75000000e+01,  2.52982001e-01,\n",
       "          7.43612130e-02,  1.48445096e+00],\n",
       "        [-4.47104856e-01,  3.79342757e+00, -9.34558150e+00,\n",
       "          9.48490180e+01,  3.81679065e+00,  3.22590421e-01,\n",
       "         -4.50014458e+01,  2.05837174e-01,  3.62000000e+02,\n",
       "          1.43154905e+01,  1.62312634e+01,  1.39508616e+00,\n",
       "          3.65634566e+00,  5.29174600e-01,  8.74531500e-03,\n",
       "          9.01436002e-01,  3.62109375e+01,  1.72692235e-01,\n",
       "          3.14306395e+00,  1.27970501e+00],\n",
       "        [-2.19877200e-03,  7.88059480e-02,  9.04519140e-02,\n",
       "          3.27354935e+00,  7.87760900e-02,  2.70847576e-01,\n",
       "         -2.20393983e-01,  2.47311828e-01,  3.49000000e+02,\n",
       "          0.00000000e+00,  1.45898113e+01,  4.21825876e-01,\n",
       "          2.23155007e+00,  6.65100708e-01,  3.63178779e-01,\n",
       "          9.51112877e-01,  3.83203125e+01,  2.85332658e-01,\n",
       "          6.48708060e-02,  1.77787776e+00],\n",
       "        [ 6.84494000e-04,  1.09793145e-01,  3.38349942e-01,\n",
       "          5.67263767e+00,  1.09710921e-01,  4.99059138e-01,\n",
       "         -3.64825590e-01,  2.05837174e-01,  3.85000000e+02,\n",
       "          1.95551909e+01,  1.53022880e+01,  6.32728019e-01,\n",
       "          2.35593015e+00,  6.46083781e-01,  2.73747982e-01,\n",
       "          9.42314531e-01,  3.79687500e+01,  2.57935692e-01,\n",
       "          9.03451290e-02,  1.24006416e+00],\n",
       "        [-4.08501800e-03,  7.71972170e-02,  6.83886150e-02,\n",
       "          3.48685790e+00,  7.72459930e-02,  2.53362932e-01,\n",
       "         -2.39538043e-01,  2.19662058e-01,  4.13000000e+02,\n",
       "          2.04369857e+01,  1.50291807e+01,  5.56824727e-01,\n",
       "          2.28749487e+00,  6.60386906e-01,  2.40614394e-01,\n",
       "          9.47449724e-01,  3.84375000e+01,  2.69819597e-01,\n",
       "          6.36107970e-02,  1.51926241e+00],\n",
       "        [-5.22984500e-03,  7.39425230e-02, -1.52061532e-01,\n",
       "          2.91880952e+00,  7.40705710e-02,  1.84743597e-01,\n",
       "         -2.42380468e-01,  2.30414747e-01,  4.18000000e+02,\n",
       "          0.00000000e+00,  1.44597390e+01,  3.84805186e-01,\n",
       "          2.22982182e+00,  6.63756832e-01,  1.66314805e-01,\n",
       "          9.52881847e-01,  3.83203125e+01,  2.89437950e-01,\n",
       "          6.09958890e-02,  1.61437825e+00]])"
      ]
     },
     "execution_count": 8,
     "metadata": {},
     "output_type": "execute_result"
    }
   ],
   "source": [
    "X"
   ]
  },
  {
   "cell_type": "code",
   "execution_count": 34,
   "metadata": {},
   "outputs": [],
   "source": [
    "X_train, X_test, y_train, y_test = train_test_split(X, y, random_state=0, test_size=0.5)\n",
    "model = KMeans(n_clusters = 3).fit(X)\n",
    "y_pred = KMeans(n_clusters = 3).fit_predict(X_test)\n",
    "assert len(model.cluster_centers_) == 3\n",
    "assert len(y_pred) == len(y_test)"
   ]
  },
  {
   "cell_type": "code",
   "execution_count": 35,
   "metadata": {},
   "outputs": [
    {
     "data": {
      "text/plain": [
       "(14, 15)"
      ]
     },
     "execution_count": 35,
     "metadata": {},
     "output_type": "execute_result"
    }
   ],
   "source": [
    "len(y_train) , len(y_test)"
   ]
  },
  {
   "cell_type": "code",
   "execution_count": 36,
   "metadata": {},
   "outputs": [
    {
     "data": {
      "text/plain": [
       "array([1, 1, 0, 1, 0, 0, 0, 0, 2, 0, 2, 0, 1, 1, 1])"
      ]
     },
     "execution_count": 36,
     "metadata": {},
     "output_type": "execute_result"
    }
   ],
   "source": [
    "y_pred"
   ]
  },
  {
   "cell_type": "code",
   "execution_count": 37,
   "metadata": {},
   "outputs": [
    {
     "data": {
      "text/plain": [
       "[1, 3, 3, 2, 2, 3, 3, 3, 1, 2, 1, 2, 3, 2, 1]"
      ]
     },
     "execution_count": 37,
     "metadata": {},
     "output_type": "execute_result"
    }
   ],
   "source": [
    "y_test"
   ]
  },
  {
   "cell_type": "code",
   "execution_count": 38,
   "metadata": {},
   "outputs": [
    {
     "data": {
      "text/plain": [
       "0.0899711101939744"
      ]
     },
     "execution_count": 38,
     "metadata": {},
     "output_type": "execute_result"
    }
   ],
   "source": [
    "adjusted_rand_score(y_pred, y_test)"
   ]
  },
  {
   "cell_type": "code",
   "execution_count": 14,
   "metadata": {},
   "outputs": [
    {
     "data": {
      "image/png": "[encoded data removed]",
      "text/plain": [
       "<Figure size 432x288 with 1 Axes>"
      ]
     },
     "metadata": {
      "needs_background": "light"
     },
     "output_type": "display_data"
    }
   ],
   "source": [
    "centroids = model.cluster_centers_\n",
    "plt.scatter([X[:,0]],[X[:,1]])\n",
    "plt.scatter(centroids[:, 0], centroids[:, 1], marker=\"x\", c=\"r\")\n",
    "plt.show()"
   ]
  }
 ],
 "metadata": {
  "kernelspec": {
   "display_name": "Python 3",
   "language": "python",
   "name": "python3"
  },
  "language_info": {
   "codemirror_mode": {
    "name": "ipython",
    "version": 3
   },
   "file_extension": ".py",
   "mimetype": "text/x-python",
   "name": "python",
   "nbconvert_exporter": "python",
   "pygments_lexer": "ipython3",
   "version": "3.7.0"
  }
 },
 "nbformat": 4,
 "nbformat_minor": 2
}
